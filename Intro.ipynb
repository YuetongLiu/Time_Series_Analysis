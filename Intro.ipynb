{
 "cells": [
  {
   "cell_type": "markdown",
   "metadata": {},
   "source": [
    "<center> <h1> Analysis of the S&P 500 time series </h1> </center>"
   ]
  },
  {
   "cell_type": "markdown",
   "metadata": {},
   "source": [
    "# “It is a capital mistake to theorize before one has data.” — Sherlock Holmes#"
   ]
  },
  {
   "cell_type": "markdown",
   "metadata": {},
   "source": [
    "We want to immediately jump in and look at some real time series data in Python.  An obvious place to start is to look at U.S. equity market returns.\n",
    "\n",
    "I've sent you a file called **^GSPC.csv**.  **^GSPC** is Yahoo's ticker symbol for the S&P 500 index, and the **.csv** extension means it is a **comma-separated values** file.  The first line consists of column names separated by commas.  Each subsequent line in the file consists of several numerical values (also separated by commas).  Feel free to inspect the contents of this file directly with a text editor or the `more` command in your terminal window.\n",
    "\n",
    "To work with this data in Python, it is helpful to use a Python library called ***pandas***, which is a powerful data analysis package in Python that was originally written for financial applications.\n",
    "\n",
    "If you haven't already installed the *pandas* library on your computer, go to a Terminal window on the Mac (or Command Prompt in Windows) and type `conda install pandas` (or alternatively `pip install pandas`)."
   ]
  },
  {
   "cell_type": "code",
   "execution_count": 1,
   "metadata": {},
   "outputs": [],
   "source": [
    "# Let's load the pandas library.\n",
    "import pandas"
   ]
  },
  {
   "cell_type": "code",
   "execution_count": 2,
   "metadata": {},
   "outputs": [],
   "source": [
    "# Let's read a .csv file and write the data to an object called \"df\".\n",
    "df = pandas.read_csv(\"Data/^GSPC.csv\")"
   ]
  },
  {
   "cell_type": "code",
   "execution_count": 3,
   "metadata": {},
   "outputs": [
    {
     "data": {
      "text/plain": [
       "pandas.core.frame.DataFrame"
      ]
     },
     "execution_count": 3,
     "metadata": {},
     "output_type": "execute_result"
    }
   ],
   "source": [
    "# What type of object is \"df\"?\n",
    "type(df)"
   ]
  },
  {
   "cell_type": "markdown",
   "metadata": {},
   "source": [
    "`df` is a *pandas* ***DataFrame***, which is a 2-dimensional table.  It is the basic data structure in *pandas* and allows SQL-like queries."
   ]
  },
  {
   "cell_type": "code",
   "execution_count": 4,
   "metadata": {},
   "outputs": [
    {
     "data": {
      "text/html": [
       "<div>\n",
       "<style scoped>\n",
       "    .dataframe tbody tr th:only-of-type {\n",
       "        vertical-align: middle;\n",
       "    }\n",
       "\n",
       "    .dataframe tbody tr th {\n",
       "        vertical-align: top;\n",
       "    }\n",
       "\n",
       "    .dataframe thead th {\n",
       "        text-align: right;\n",
       "    }\n",
       "</style>\n",
       "<table border=\"1\" class=\"dataframe\">\n",
       "  <thead>\n",
       "    <tr style=\"text-align: right;\">\n",
       "      <th></th>\n",
       "      <th>Date</th>\n",
       "      <th>Open</th>\n",
       "      <th>High</th>\n",
       "      <th>Low</th>\n",
       "      <th>Close</th>\n",
       "      <th>Adj Close</th>\n",
       "      <th>Volume</th>\n",
       "    </tr>\n",
       "  </thead>\n",
       "  <tbody>\n",
       "    <tr>\n",
       "      <th>0</th>\n",
       "      <td>1950-01-03</td>\n",
       "      <td>16.66</td>\n",
       "      <td>16.66</td>\n",
       "      <td>16.66</td>\n",
       "      <td>16.66</td>\n",
       "      <td>16.66</td>\n",
       "      <td>1260000</td>\n",
       "    </tr>\n",
       "    <tr>\n",
       "      <th>1</th>\n",
       "      <td>1950-01-04</td>\n",
       "      <td>16.85</td>\n",
       "      <td>16.85</td>\n",
       "      <td>16.85</td>\n",
       "      <td>16.85</td>\n",
       "      <td>16.85</td>\n",
       "      <td>1890000</td>\n",
       "    </tr>\n",
       "    <tr>\n",
       "      <th>2</th>\n",
       "      <td>1950-01-05</td>\n",
       "      <td>16.93</td>\n",
       "      <td>16.93</td>\n",
       "      <td>16.93</td>\n",
       "      <td>16.93</td>\n",
       "      <td>16.93</td>\n",
       "      <td>2550000</td>\n",
       "    </tr>\n",
       "    <tr>\n",
       "      <th>3</th>\n",
       "      <td>1950-01-06</td>\n",
       "      <td>16.98</td>\n",
       "      <td>16.98</td>\n",
       "      <td>16.98</td>\n",
       "      <td>16.98</td>\n",
       "      <td>16.98</td>\n",
       "      <td>2010000</td>\n",
       "    </tr>\n",
       "    <tr>\n",
       "      <th>4</th>\n",
       "      <td>1950-01-09</td>\n",
       "      <td>17.08</td>\n",
       "      <td>17.08</td>\n",
       "      <td>17.08</td>\n",
       "      <td>17.08</td>\n",
       "      <td>17.08</td>\n",
       "      <td>2520000</td>\n",
       "    </tr>\n",
       "  </tbody>\n",
       "</table>\n",
       "</div>"
      ],
      "text/plain": [
       "         Date   Open   High    Low  Close  Adj Close   Volume\n",
       "0  1950-01-03  16.66  16.66  16.66  16.66      16.66  1260000\n",
       "1  1950-01-04  16.85  16.85  16.85  16.85      16.85  1890000\n",
       "2  1950-01-05  16.93  16.93  16.93  16.93      16.93  2550000\n",
       "3  1950-01-06  16.98  16.98  16.98  16.98      16.98  2010000\n",
       "4  1950-01-09  17.08  17.08  17.08  17.08      17.08  2520000"
      ]
     },
     "execution_count": 4,
     "metadata": {},
     "output_type": "execute_result"
    }
   ],
   "source": [
    "# Let's inspect the beginning of our DataFrame.\n",
    "df.head()"
   ]
  },
  {
   "cell_type": "markdown",
   "metadata": {},
   "source": [
    "We see that we have seven named columns, including the first *Date* column, and each row is indexed by an integer (starting with zero).  We also notice that our first row starts on January 3, 1950, and there are rows for each business day thereafter (but not every calendar day)."
   ]
  },
  {
   "cell_type": "code",
   "execution_count": 5,
   "metadata": {},
   "outputs": [
    {
     "data": {
      "text/html": [
       "<div>\n",
       "<style scoped>\n",
       "    .dataframe tbody tr th:only-of-type {\n",
       "        vertical-align: middle;\n",
       "    }\n",
       "\n",
       "    .dataframe tbody tr th {\n",
       "        vertical-align: top;\n",
       "    }\n",
       "\n",
       "    .dataframe thead th {\n",
       "        text-align: right;\n",
       "    }\n",
       "</style>\n",
       "<table border=\"1\" class=\"dataframe\">\n",
       "  <thead>\n",
       "    <tr style=\"text-align: right;\">\n",
       "      <th></th>\n",
       "      <th>Date</th>\n",
       "      <th>Open</th>\n",
       "      <th>High</th>\n",
       "      <th>Low</th>\n",
       "      <th>Close</th>\n",
       "      <th>Adj Close</th>\n",
       "      <th>Volume</th>\n",
       "    </tr>\n",
       "  </thead>\n",
       "  <tbody>\n",
       "    <tr>\n",
       "      <th>17528</th>\n",
       "      <td>2019-08-30</td>\n",
       "      <td>2937.090088</td>\n",
       "      <td>2940.429932</td>\n",
       "      <td>2913.320068</td>\n",
       "      <td>2926.459961</td>\n",
       "      <td>2926.459961</td>\n",
       "      <td>3008450000</td>\n",
       "    </tr>\n",
       "    <tr>\n",
       "      <th>17529</th>\n",
       "      <td>2019-09-03</td>\n",
       "      <td>2909.010010</td>\n",
       "      <td>2914.389893</td>\n",
       "      <td>2891.850098</td>\n",
       "      <td>2906.270020</td>\n",
       "      <td>2906.270020</td>\n",
       "      <td>3426790000</td>\n",
       "    </tr>\n",
       "    <tr>\n",
       "      <th>17530</th>\n",
       "      <td>2019-09-04</td>\n",
       "      <td>2924.669922</td>\n",
       "      <td>2938.840088</td>\n",
       "      <td>2921.860107</td>\n",
       "      <td>2937.780029</td>\n",
       "      <td>2937.780029</td>\n",
       "      <td>3163260000</td>\n",
       "    </tr>\n",
       "    <tr>\n",
       "      <th>17531</th>\n",
       "      <td>2019-09-05</td>\n",
       "      <td>2960.600098</td>\n",
       "      <td>2985.860107</td>\n",
       "      <td>2960.600098</td>\n",
       "      <td>2976.000000</td>\n",
       "      <td>2976.000000</td>\n",
       "      <td>3890700000</td>\n",
       "    </tr>\n",
       "    <tr>\n",
       "      <th>17532</th>\n",
       "      <td>2019-09-06</td>\n",
       "      <td>2980.330078</td>\n",
       "      <td>2985.030029</td>\n",
       "      <td>2972.510010</td>\n",
       "      <td>2978.709961</td>\n",
       "      <td>2978.709961</td>\n",
       "      <td>3208280000</td>\n",
       "    </tr>\n",
       "  </tbody>\n",
       "</table>\n",
       "</div>"
      ],
      "text/plain": [
       "             Date         Open         High          Low        Close  \\\n",
       "17528  2019-08-30  2937.090088  2940.429932  2913.320068  2926.459961   \n",
       "17529  2019-09-03  2909.010010  2914.389893  2891.850098  2906.270020   \n",
       "17530  2019-09-04  2924.669922  2938.840088  2921.860107  2937.780029   \n",
       "17531  2019-09-05  2960.600098  2985.860107  2960.600098  2976.000000   \n",
       "17532  2019-09-06  2980.330078  2985.030029  2972.510010  2978.709961   \n",
       "\n",
       "         Adj Close      Volume  \n",
       "17528  2926.459961  3008450000  \n",
       "17529  2906.270020  3426790000  \n",
       "17530  2937.780029  3163260000  \n",
       "17531  2976.000000  3890700000  \n",
       "17532  2978.709961  3208280000  "
      ]
     },
     "execution_count": 5,
     "metadata": {},
     "output_type": "execute_result"
    }
   ],
   "source": [
    "# Let's inspect the end of our DataFrame,\n",
    "# to see when our data stops.\n",
    "df.tail()"
   ]
  },
  {
   "cell_type": "markdown",
   "metadata": {},
   "source": [
    "So our data stops at September 6, 2019 and we have 17,533 rows of data (including the 0th row).\n",
    "\n",
    "We are primary interested in the \"Close\" prices of the index, so let's create a data object with just that column."
   ]
  },
  {
   "cell_type": "code",
   "execution_count": 6,
   "metadata": {},
   "outputs": [],
   "source": [
    "ts = df[\"Close\"]"
   ]
  },
  {
   "cell_type": "code",
   "execution_count": 7,
   "metadata": {},
   "outputs": [
    {
     "data": {
      "text/plain": [
       "pandas.core.series.Series"
      ]
     },
     "execution_count": 7,
     "metadata": {},
     "output_type": "execute_result"
    }
   ],
   "source": [
    "type(ts)"
   ]
  },
  {
   "cell_type": "code",
   "execution_count": 8,
   "metadata": {},
   "outputs": [
    {
     "data": {
      "text/plain": [
       "0    16.66\n",
       "1    16.85\n",
       "2    16.93\n",
       "3    16.98\n",
       "4    17.08\n",
       "Name: Close, dtype: float64"
      ]
     },
     "execution_count": 8,
     "metadata": {},
     "output_type": "execute_result"
    }
   ],
   "source": [
    "ts.head()"
   ]
  },
  {
   "cell_type": "markdown",
   "metadata": {},
   "source": [
    "We see that we have created a 1-dimensional object of numerical values, called a *pandas* ***Series***.  We have created our first **time series**!"
   ]
  },
  {
   "cell_type": "markdown",
   "metadata": {},
   "source": [
    "# Plotting our way forward."
   ]
  },
  {
   "cell_type": "markdown",
   "metadata": {},
   "source": [
    "Absolutely the first step to analyzing any time series is to plot it!  Plotting the data can show important properties such as trends, seasonality and cycles, outliers and discontinuities.\n",
    "\n",
    "We'll use a library called ***matplotlib*** to help us plot the data."
   ]
  },
  {
   "cell_type": "code",
   "execution_count": 9,
   "metadata": {},
   "outputs": [],
   "source": [
    "import matplotlib"
   ]
  },
  {
   "cell_type": "code",
   "execution_count": 10,
   "metadata": {},
   "outputs": [],
   "source": [
    "# This command will tell Jupyter to display our\n",
    "# plots within our notebook.\n",
    "%matplotlib inline"
   ]
  },
  {
   "cell_type": "code",
   "execution_count": 11,
   "metadata": {},
   "outputs": [
    {
     "data": {
      "text/plain": [
       "<AxesSubplot:>"
      ]
     },
     "execution_count": 11,
     "metadata": {},
     "output_type": "execute_result"
    },
    {
     "data": {
      "image/png": "[encoded data removed]",
      "text/plain": [
       "<Figure size 432x288 with 1 Axes>"
      ]
     },
     "metadata": {
      "needs_background": "light"
     },
     "output_type": "display_data"
    }
   ],
   "source": [
    "ts.plot()"
   ]
  },
  {
   "cell_type": "markdown",
   "metadata": {},
   "source": [
    "I am not overly fond of having the x-axis intersect the y-axis below 0.  It gives a misleading impression of the scale of the data during the earlier time periods.  Let's fix this by setting the range of the y-axis manually."
   ]
  },
  {
   "cell_type": "code",
   "execution_count": 12,
   "metadata": {},
   "outputs": [
    {
     "data": {
      "text/plain": [
       "matplotlib.axes._subplots.AxesSubplot"
      ]
     },
     "execution_count": 12,
     "metadata": {},
     "output_type": "execute_result"
    },
    {
     "data": {
      "image/png": "[encoded data removed]",
      "text/plain": [
       "<Figure size 432x288 with 1 Axes>"
      ]
     },
     "metadata": {
      "needs_background": "light"
     },
     "output_type": "display_data"
    }
   ],
   "source": [
    "type(ts.plot())"
   ]
  },
  {
   "cell_type": "code",
   "execution_count": 13,
   "metadata": {},
   "outputs": [
    {
     "data": {
      "text/plain": [
       "(0.0, 3000.0)"
      ]
     },
     "execution_count": 13,
     "metadata": {},
     "output_type": "execute_result"
    },
    {
     "data": {
      "image/png": "[encoded data removed]",
      "text/plain": [
       "<Figure size 432x288 with 1 Axes>"
      ]
     },
     "metadata": {
      "needs_background": "light"
     },
     "output_type": "display_data"
    }
   ],
   "source": [
    "ts.plot().set_ylim(0,3000)"
   ]
  },
  {
   "cell_type": "markdown",
   "metadata": {},
   "source": [
    "Much better!\n",
    "\n",
    "But perhaps you wish only to set the lower bound of the y-axis, but allow the upper bound to be set automatically."
   ]
  },
  {
   "cell_type": "code",
   "execution_count": 14,
   "metadata": {},
   "outputs": [
    {
     "data": {
      "text/plain": [
       "(0.0, 3176.32011235)"
      ]
     },
     "execution_count": 14,
     "metadata": {},
     "output_type": "execute_result"
    },
    {
     "data": {
      "image/png": "[encoded data removed]",
      "text/plain": [
       "<Figure size 432x288 with 1 Axes>"
      ]
     },
     "metadata": {
      "needs_background": "light"
     },
     "output_type": "display_data"
    }
   ],
   "source": [
    "ts.plot().set_ylim(0,None)"
   ]
  },
  {
   "cell_type": "markdown",
   "metadata": {},
   "source": [
    "From a purely mathematical point of view, this representation of the data seems sufficient, but to get a better sense of the actual **context** of the data, what are we missing?"
   ]
  },
  {
   "cell_type": "code",
   "execution_count": 15,
   "metadata": {},
   "outputs": [],
   "source": [
    "# Let's go back to our .csv file and read it in\n",
    "# again, but this time using the first (0th)\n",
    "# column of dates as an *index* for our DataFrame.\n",
    "df = pandas.read_csv(\"data/^GSPC.csv\", index_col = 0)"
   ]
  },
  {
   "cell_type": "code",
   "execution_count": 16,
   "metadata": {},
   "outputs": [
    {
     "data": {
      "text/html": [
       "<div>\n",
       "<style scoped>\n",
       "    .dataframe tbody tr th:only-of-type {\n",
       "        vertical-align: middle;\n",
       "    }\n",
       "\n",
       "    .dataframe tbody tr th {\n",
       "        vertical-align: top;\n",
       "    }\n",
       "\n",
       "    .dataframe thead th {\n",
       "        text-align: right;\n",
       "    }\n",
       "</style>\n",
       "<table border=\"1\" class=\"dataframe\">\n",
       "  <thead>\n",
       "    <tr style=\"text-align: right;\">\n",
       "      <th></th>\n",
       "      <th>Open</th>\n",
       "      <th>High</th>\n",
       "      <th>Low</th>\n",
       "      <th>Close</th>\n",
       "      <th>Adj Close</th>\n",
       "      <th>Volume</th>\n",
       "    </tr>\n",
       "    <tr>\n",
       "      <th>Date</th>\n",
       "      <th></th>\n",
       "      <th></th>\n",
       "      <th></th>\n",
       "      <th></th>\n",
       "      <th></th>\n",
       "      <th></th>\n",
       "    </tr>\n",
       "  </thead>\n",
       "  <tbody>\n",
       "    <tr>\n",
       "      <th>1950-01-03</th>\n",
       "      <td>16.66</td>\n",
       "      <td>16.66</td>\n",
       "      <td>16.66</td>\n",
       "      <td>16.66</td>\n",
       "      <td>16.66</td>\n",
       "      <td>1260000</td>\n",
       "    </tr>\n",
       "    <tr>\n",
       "      <th>1950-01-04</th>\n",
       "      <td>16.85</td>\n",
       "      <td>16.85</td>\n",
       "      <td>16.85</td>\n",
       "      <td>16.85</td>\n",
       "      <td>16.85</td>\n",
       "      <td>1890000</td>\n",
       "    </tr>\n",
       "    <tr>\n",
       "      <th>1950-01-05</th>\n",
       "      <td>16.93</td>\n",
       "      <td>16.93</td>\n",
       "      <td>16.93</td>\n",
       "      <td>16.93</td>\n",
       "      <td>16.93</td>\n",
       "      <td>2550000</td>\n",
       "    </tr>\n",
       "    <tr>\n",
       "      <th>1950-01-06</th>\n",
       "      <td>16.98</td>\n",
       "      <td>16.98</td>\n",
       "      <td>16.98</td>\n",
       "      <td>16.98</td>\n",
       "      <td>16.98</td>\n",
       "      <td>2010000</td>\n",
       "    </tr>\n",
       "    <tr>\n",
       "      <th>1950-01-09</th>\n",
       "      <td>17.08</td>\n",
       "      <td>17.08</td>\n",
       "      <td>17.08</td>\n",
       "      <td>17.08</td>\n",
       "      <td>17.08</td>\n",
       "      <td>2520000</td>\n",
       "    </tr>\n",
       "  </tbody>\n",
       "</table>\n",
       "</div>"
      ],
      "text/plain": [
       "             Open   High    Low  Close  Adj Close   Volume\n",
       "Date                                                      \n",
       "1950-01-03  16.66  16.66  16.66  16.66      16.66  1260000\n",
       "1950-01-04  16.85  16.85  16.85  16.85      16.85  1890000\n",
       "1950-01-05  16.93  16.93  16.93  16.93      16.93  2550000\n",
       "1950-01-06  16.98  16.98  16.98  16.98      16.98  2010000\n",
       "1950-01-09  17.08  17.08  17.08  17.08      17.08  2520000"
      ]
     },
     "execution_count": 16,
     "metadata": {},
     "output_type": "execute_result"
    }
   ],
   "source": [
    "df.head()"
   ]
  },
  {
   "cell_type": "code",
   "execution_count": 17,
   "metadata": {},
   "outputs": [],
   "source": [
    "ts = df[\"Close\"]"
   ]
  },
  {
   "cell_type": "code",
   "execution_count": 18,
   "metadata": {},
   "outputs": [
    {
     "data": {
      "text/plain": [
       "Date\n",
       "1950-01-03    16.66\n",
       "1950-01-04    16.85\n",
       "1950-01-05    16.93\n",
       "1950-01-06    16.98\n",
       "1950-01-09    17.08\n",
       "Name: Close, dtype: float64"
      ]
     },
     "execution_count": 18,
     "metadata": {},
     "output_type": "execute_result"
    }
   ],
   "source": [
    "ts.head()"
   ]
  },
  {
   "cell_type": "code",
   "execution_count": 19,
   "metadata": {},
   "outputs": [
    {
     "data": {
      "text/plain": [
       "(0.0, 3176.32011235)"
      ]
     },
     "execution_count": 19,
     "metadata": {},
     "output_type": "execute_result"
    },
    {
     "data": {
      "image/png": "[encoded data removed]",
      "text/plain": [
       "<Figure size 432x288 with 1 Axes>"
      ]
     },
     "metadata": {
      "needs_background": "light"
     },
     "output_type": "display_data"
    }
   ],
   "source": [
    "ts.plot().set_ylim(0,None)"
   ]
  },
  {
   "cell_type": "markdown",
   "metadata": {},
   "source": [
    "Our x-axis labels don't look too good!  What has gone wrong?  Let's look more carefully at our index."
   ]
  },
  {
   "cell_type": "code",
   "execution_count": 20,
   "metadata": {},
   "outputs": [
    {
     "data": {
      "text/plain": [
       "Index(['1950-01-03', '1950-01-04', '1950-01-05', '1950-01-06', '1950-01-09',\n",
       "       '1950-01-10', '1950-01-11', '1950-01-12', '1950-01-13', '1950-01-16',\n",
       "       ...\n",
       "       '2019-08-23', '2019-08-26', '2019-08-27', '2019-08-28', '2019-08-29',\n",
       "       '2019-08-30', '2019-09-03', '2019-09-04', '2019-09-05', '2019-09-06'],\n",
       "      dtype='object', name='Date', length=17533)"
      ]
     },
     "execution_count": 20,
     "metadata": {},
     "output_type": "execute_result"
    }
   ],
   "source": [
    "# The .index method retrieve the index of our\n",
    "# Series or DataFrame.\n",
    "df.index"
   ]
  },
  {
   "cell_type": "code",
   "execution_count": 21,
   "metadata": {},
   "outputs": [
    {
     "data": {
      "text/plain": [
       "'1950-01-03'"
      ]
     },
     "execution_count": 21,
     "metadata": {},
     "output_type": "execute_result"
    }
   ],
   "source": [
    "# Let's look at the first (0th) index in our list.\n",
    "df.index[0]"
   ]
  },
  {
   "cell_type": "code",
   "execution_count": 22,
   "metadata": {},
   "outputs": [
    {
     "data": {
      "text/plain": [
       "str"
      ]
     },
     "execution_count": 22,
     "metadata": {},
     "output_type": "execute_result"
    }
   ],
   "source": [
    "#  Is this really a date?  Or just a string that\n",
    "# looks like a date?\n",
    "type(df.index[0])"
   ]
  },
  {
   "cell_type": "markdown",
   "metadata": {},
   "source": [
    "Aha!  The problem is that we read in the dates as just strings rather than true dates.  Let's go back and try to read in our dates as dates rather than strings."
   ]
  },
  {
   "cell_type": "code",
   "execution_count": 24,
   "metadata": {},
   "outputs": [],
   "source": [
    "df = pandas.read_csv(\"data/^GSPC.csv\", index_col = 0, parse_dates = True)"
   ]
  },
  {
   "cell_type": "code",
   "execution_count": 25,
   "metadata": {},
   "outputs": [
    {
     "data": {
      "text/plain": [
       "pandas._libs.tslibs.timestamps.Timestamp"
      ]
     },
     "execution_count": 25,
     "metadata": {},
     "output_type": "execute_result"
    }
   ],
   "source": [
    "type(df.index[0])"
   ]
  },
  {
   "cell_type": "markdown",
   "metadata": {},
   "source": [
    "*pandas* ***Timestamp*** actually keeps track of both date and time of day."
   ]
  },
  {
   "cell_type": "code",
   "execution_count": 26,
   "metadata": {},
   "outputs": [],
   "source": [
    "ts = df[\"Close\"]"
   ]
  },
  {
   "cell_type": "code",
   "execution_count": 27,
   "metadata": {},
   "outputs": [
    {
     "data": {
      "text/plain": [
       "(0.0, 3176.32011235)"
      ]
     },
     "execution_count": 27,
     "metadata": {},
     "output_type": "execute_result"
    },
    {
     "data": {
      "image/png": "[encoded data removed]",
      "text/plain": [
       "<Figure size 432x288 with 1 Axes>"
      ]
     },
     "metadata": {
      "needs_background": "light"
     },
     "output_type": "display_data"
    }
   ],
   "source": [
    "ts.plot().set_ylim(0,None)"
   ]
  },
  {
   "cell_type": "markdown",
   "metadata": {},
   "source": [
    "This plot isn't perfect but still much improved!  The dates can provide us with essential context."
   ]
  },
  {
   "cell_type": "markdown",
   "metadata": {},
   "source": [
    "# \"Be transformed.\" — Romans 12:2 #"
   ]
  },
  {
   "cell_type": "markdown",
   "metadata": {},
   "source": [
    "Notice that the plot is increasing in time, and the rate of increase is also increasing, suggesting a polynomial or perhaps exponential growth **trend**.  The magnitude of up and down changes seems to be increasing in time as well (i.e. increasing variance), perhaps proportional to the level.\n",
    "\n",
    "This suggests the possibile usefulness of a model where the value of the next period depends **multiplicatively** on the previous period, such as\n",
    "$$s_t = s_{t-1} \\cdot (1 + r_t) = s_0 \\cdot \\prod_{i=1}^{i=t} (1+{r_t})$$\n",
    "where $r_t$ is the simple daily price return, and $s_0$ is the initial level of the S&P 500 index.\n",
    "\n",
    "It is often convenient to **transform** our time series data.  When we encounter a possible exponential growth trend and multiplicative model of generating the time series data, we often benefit from performing a **logarithmic** transformation\n",
    "$$x_t = \\log s_t$$\n",
    "which may help stabilize the variance."
   ]
  },
  {
   "cell_type": "code",
   "execution_count": 28,
   "metadata": {},
   "outputs": [],
   "source": [
    "# First we import the \"numpy\" scientific computing\n",
    "# library.\n",
    "import numpy"
   ]
  },
  {
   "cell_type": "code",
   "execution_count": 29,
   "metadata": {},
   "outputs": [],
   "source": [
    "# Now we create a new Series which is the natural\n",
    "# logarithm of the original Series.\n",
    "logts = numpy.log(ts)"
   ]
  },
  {
   "cell_type": "code",
   "execution_count": 30,
   "metadata": {},
   "outputs": [
    {
     "data": {
      "text/plain": [
       "<AxesSubplot:xlabel='Date'>"
      ]
     },
     "execution_count": 30,
     "metadata": {},
     "output_type": "execute_result"
    },
    {
     "data": {
      "image/png": "[encoded data removed]",
      "text/plain": [
       "<Figure size 432x288 with 1 Axes>"
      ]
     },
     "metadata": {
      "needs_background": "light"
     },
     "output_type": "display_data"
    }
   ],
   "source": [
    "logts.plot()"
   ]
  },
  {
   "cell_type": "markdown",
   "metadata": {},
   "source": [
    "This transformed series appears to be an easier series to analyze than our original data.  Just by \"eyeballing\" the data, we appear to have a roughly **linear growth trend** plus some fluctuation about the trend, and it appears that the **variance** is much more stable.\n",
    "\n",
    "A ***stochastic process*** is a family of random variables $X_t$ indexed by a set of numbers $t$, where $t$ usually represents time.  In time series analysis, we usually only consider **discrete** values of $t$ (such as $t= 0, 1, 2, \\dots$), but it is also possible to consider continuous values of $t$ as well.\n",
    "\n",
    "Now let's suppose we have *observed* time series data\n",
    "$$x_0, x_1, x_2, \\dots$$\n",
    "where the $x_t$ are the actual numerical values (not random variables).\n",
    "We wish to propose as a ***model*** for the time series a discrete stochastic process\n",
    "$$X_0, X_1, X_2, \\dots$$\n",
    "where the $X_t$ are random variables, such that the random variables $X_t$ could have plausibly generated the observed data $x_t$.\n",
    "\n",
    "In practice, when someone says \"***time series***\", they might be referring to either the ***observed*** time series data or the ***time series model*** of random variables.  You will have use  context to distinguish between the two usages.\n",
    "\n",
    "The simplest model of a series with a trend is the ***linear trend plus noise*** model\n",
    "$$X_t = a + bt +\\epsilon_t$$\n",
    "where slope $b$ is the trend and $\\epsilon_t$ is a random error with zero mean.  We might also refer to such a trend as a ***deterministic linear trend*** because the trend has no random component.  Such a trend is also called a ***global linear trend*** because the trend is modelled to exist for all time.\n",
    "\n",
    "However, a global trend is often an unrealistic assumption unless we have a special reason to assume that a trend will persist for all time, and for this reason ***local*** or ***stochastic*** trend models are often preferred.\n",
    "\n",
    "A more common approach is to model the time series as a ***random walk with drift***,\n",
    "$$X_t = X_{t-1} + Z_t$$\n",
    "where the $Z_t$ are independently and identically distributed (i.i.d.) random variables, with mean $\\mu = \\mathbb{E}[Z_t]$.  The $Z_t$'s form a ***purely random process***. We can also rewrite this model as\n",
    "$$X_t = X_{t-1} + \\mu + \\epsilon_t,$$\n",
    "where the $\\epsilon_t$ has mean 0.  Such a purely random process with zero mean is frequently referred to as ***white noise*** (because in the frequency domain its spectrum has equal intensity at all frequencies, analogous to white light).\n",
    "\n",
    "For our log-transformed S&P 500 data, should we prefer a linear trend plus noise model?  Or a random walk model?  For economic and especially financial data, the **random walk model usually provides better out-of-sample forecasts** than global deterministic trend models (see page 27 in the text and the reference to Franses and Kleibergen (1996))."
   ]
  },
  {
   "cell_type": "markdown",
   "metadata": {},
   "source": [
    "# What's the difference? #"
   ]
  },
  {
   "cell_type": "markdown",
   "metadata": {},
   "source": [
    "When dealing with random walks, it is often useful to rewrite the model as:\n",
    "$$X_t - X_{t-1} = \\mu + \\epsilon_t.$$\n",
    "Taking the difference between the current value $X_t$ and the previous value $X_{t_1}$ is called ***differencing*** and is so common that we have a special notation for this:\n",
    "$$\\nabla X_t = X_t - X_{t-1}.$$\n",
    "\n",
    "Let's take the difference of our S&P 500 data,\n",
    "$$y_t = \\nabla x_t = x_t - x_{t-1} = \\log s_t - \\log s_{t-1} = \\log \\left(\\frac {s_t}{s_{t-1}} \\right).$$\n",
    "The $y_t = \\log(s_t / s_{t-1})$ here are often called ***log returns*** of the price data, and for small $y_t$ they are approximately equal to the simple price returns $r_t = (s_t-s_{t-1})/ s_{t-1}$."
   ]
  },
  {
   "cell_type": "code",
   "execution_count": 31,
   "metadata": {},
   "outputs": [],
   "source": [
    "# Let's take differences of our log price data.\n",
    "logdiff = logts.diff()"
   ]
  },
  {
   "cell_type": "code",
   "execution_count": 32,
   "metadata": {},
   "outputs": [
    {
     "data": {
      "text/plain": [
       "Date\n",
       "1950-01-03         NaN\n",
       "1950-01-04    0.011340\n",
       "1950-01-05    0.004737\n",
       "1950-01-06    0.002949\n",
       "1950-01-09    0.005872\n",
       "Name: Close, dtype: float64"
      ]
     },
     "execution_count": 32,
     "metadata": {},
     "output_type": "execute_result"
    }
   ],
   "source": [
    "# Let's inspect the beginning of our differenced\n",
    "# series.\n",
    "logdiff.head()"
   ]
  },
  {
   "cell_type": "markdown",
   "metadata": {},
   "source": [
    "Notice that the first date has a value if ***NaN***, which stands for \"not a number.\""
   ]
  },
  {
   "cell_type": "code",
   "execution_count": 33,
   "metadata": {},
   "outputs": [
    {
     "data": {
      "text/plain": [
       "Date\n",
       "1950-01-04    0.011340\n",
       "1950-01-05    0.004737\n",
       "1950-01-06    0.002949\n",
       "1950-01-09    0.005872\n",
       "1950-01-10   -0.002932\n",
       "Name: Close, dtype: float64"
      ]
     },
     "execution_count": 33,
     "metadata": {},
     "output_type": "execute_result"
    }
   ],
   "source": [
    "# Let's get rid of that initial NaN.\n",
    "# It may screw us up later.\n",
    "logdiff = logdiff.dropna()\n",
    "logdiff.head()"
   ]
  },
  {
   "cell_type": "code",
   "execution_count": 34,
   "metadata": {},
   "outputs": [
    {
     "data": {
      "text/plain": [
       "<AxesSubplot:xlabel='Date'>"
      ]
     },
     "execution_count": 34,
     "metadata": {},
     "output_type": "execute_result"
    },
    {
     "data": {
      "image/png": "[encoded data removed]",
      "text/plain": [
       "<Figure size 432x288 with 1 Axes>"
      ]
     },
     "metadata": {
      "needs_background": "light"
     },
     "output_type": "display_data"
    }
   ],
   "source": [
    "logdiff.plot()"
   ]
  },
  {
   "cell_type": "markdown",
   "metadata": {},
   "source": [
    "What to make of this time series plot?  By taking differences, we have eliminated the trend.  Is what remains a purely random process?  It does seem fairly random, but there seems to be \"quiet periods\" and \"noisy periods\" in the data.\n",
    "\n",
    "Where to go from here?  It probably makes sense calculate some summary descriptive statistics."
   ]
  },
  {
   "cell_type": "code",
   "execution_count": 35,
   "metadata": {},
   "outputs": [
    {
     "data": {
      "text/plain": [
       "17532"
      ]
     },
     "execution_count": 35,
     "metadata": {},
     "output_type": "execute_result"
    }
   ],
   "source": [
    "# How many observations do we have\n",
    "# (excluding the NaN value)?\n",
    "logdiff.count()"
   ]
  },
  {
   "cell_type": "code",
   "execution_count": 36,
   "metadata": {},
   "outputs": [
    {
     "data": {
      "text/plain": [
       "0.00029581536333787617"
      ]
     },
     "execution_count": 36,
     "metadata": {},
     "output_type": "execute_result"
    }
   ],
   "source": [
    "# Let's take the sample mean of the log returns.\n",
    "logdiff.mean()"
   ]
  },
  {
   "cell_type": "code",
   "execution_count": 37,
   "metadata": {},
   "outputs": [
    {
     "data": {
      "text/plain": [
       "0.0745454715611448"
      ]
     },
     "execution_count": 37,
     "metadata": {},
     "output_type": "execute_result"
    }
   ],
   "source": [
    "# Let's convert this mean daily return to a mean\n",
    "#annual return, by multiplying by the number of\n",
    "# trading days per year, which is usally about 252.\n",
    "logdiff.mean() * 252"
   ]
  },
  {
   "cell_type": "markdown",
   "metadata": {},
   "source": [
    "This is telling us that the S&P 500 index has returned an average of **7.45%** per year (continuously compounded) since 1950.  But note that this return is only the ***price return*** because it has excluded dividends, and this is a ***nominal return*** in the sense that we have not adjusted for inflation to calculate a ***real return***."
   ]
  },
  {
   "cell_type": "code",
   "execution_count": 38,
   "metadata": {},
   "outputs": [
    {
     "data": {
      "text/plain": [
       "0.009653599086165907"
      ]
     },
     "execution_count": 38,
     "metadata": {},
     "output_type": "execute_result"
    }
   ],
   "source": [
    "# Next we calculate the sample standard deviation\n",
    "# of the daily log returns.\n",
    "logdiff.std()"
   ]
  },
  {
   "cell_type": "code",
   "execution_count": 39,
   "metadata": {},
   "outputs": [
    {
     "data": {
      "text/plain": [
       "0.15324613463229228"
      ]
     },
     "execution_count": 39,
     "metadata": {},
     "output_type": "execute_result"
    }
   ],
   "source": [
    "# Let's convert this daily standard deviation to an\n",
    "# annual standard deviation (usually called the\n",
    "# \"volatility\") by multiplying by the square root\n",
    "# of 252.\n",
    "logdiff.std() * 252**0.5"
   ]
  },
  {
   "cell_type": "markdown",
   "metadata": {},
   "source": [
    "So the annual realized ***volatility*** of the S&P 500 index since 1950 is **15.32%**, which is approximate twice the mean return."
   ]
  },
  {
   "cell_type": "code",
   "execution_count": 40,
   "metadata": {},
   "outputs": [
    {
     "data": {
      "text/plain": [
       "0.0004726493684277244"
      ]
     },
     "execution_count": 40,
     "metadata": {},
     "output_type": "execute_result"
    }
   ],
   "source": [
    "# What about the median daily return?\n",
    "logdiff.median()"
   ]
  },
  {
   "cell_type": "markdown",
   "metadata": {},
   "source": [
    "The mean daily return is substantially below the **median** daily return!  This suggests that the return data exhibits ***negative skew***, i.e. large negative returns occur more frequently than large positive returns.\n",
    "\n",
    "Let's now plot a ***histogram*** of our return data to see the general shape of the distribution."
   ]
  },
  {
   "cell_type": "code",
   "execution_count": 41,
   "metadata": {},
   "outputs": [
    {
     "data": {
      "text/plain": [
       "(-0.05, 0.05)"
      ]
     },
     "execution_count": 41,
     "metadata": {},
     "output_type": "execute_result"
    },
    {
     "data": {
      "image/png": "[encoded data removed]",
      "text/plain": [
       "<Figure size 864x216 with 1 Axes>"
      ]
     },
     "metadata": {
      "needs_background": "light"
     },
     "output_type": "display_data"
    }
   ],
   "source": [
    "logdiff.hist(bins=1000, figsize=(12,3)).set_xlim((-0.05,0.05))"
   ]
  },
  {
   "cell_type": "markdown",
   "metadata": {},
   "source": [
    "This is a **bell-shaped distribution** that looks a lot like a normal distribution, except for the fact that there are a many of observations at least four standard deviations (\"4 sigma\") away  from the mean, which should only happen about once every 16,000 observations if this were truly normally distributed.  In other words, we should only see one or two such outliers (among our 17,532 observations), not the large number of outliers that we see.  So this distribution has \"***fatter tails***\", or greater ***kurtosis*** than that of a normal distribution, in addition to the negative skew that we mentioned earlier."
   ]
  },
  {
   "cell_type": "markdown",
   "metadata": {},
   "source": [
    "# Let's take a moment.#"
   ]
  },
  {
   "cell_type": "markdown",
   "metadata": {},
   "source": [
    "To get a better picture of our distribution of returns, let's consider the ***moments*** of a random variable.  The ***$n$th moment*** $M_n$ of a random variable $X$ is the expectation of $X^n$:\n",
    "$$M_n = \\mathbb{E}[X^n].$$\n",
    "For example, the first moment $M_1$ is the mean of $X$.\n",
    "\n",
    "We can also consider the ***$n$th central moment of $X$***, which is defined to be\n",
    "$$\\mu_n = \\mathbb{E}[(X - \\mu)^n]$$\n",
    "where $\\mu = \\mathbb{E}[X]$ is the mean of $X$.\n",
    "\n",
    "For example, the second central moment $\\mu_2 = \\sigma^2$ is the variance of $X$.\n",
    "\n",
    "We also have the notion of the ***$n$th standardized moment***:\n",
    "$$\\tilde{\\mu}_n = \\mathbb{E}\\left[\\left(\\frac{X - \\mu}{\\sigma}\\right)^n\\right]$$\n",
    "where $\\mu$ is the mean of $X$ and $\\sigma$ is the standard deviation of $X$.\n",
    "\n",
    "The third standardized moment $\\tilde{\\mu}_3$ is called the ***Pearson moment coefficient of skewness*** or just the \"***skewness***\".  Every **symmetric** distribution will have **zero skewness**.\n",
    "\n",
    "The fourth standardized moment $\\tilde{\\mu}_4$ is called the ***Pearson moment coefficient of kurtosis*** or just the \"***kurtosis***\".  For example, the normal distribution has a coefficient of kurtosis of $3$, which leads to the definition of ***Fisher kurtosis*** or ***excess kurtosis*** as kurtosis minus 3, i.e.\n",
    "$$\\tilde{\\mu}_4 - 3.$$\n",
    "\n",
    "What about ***sample central moments*** which are ***unbiased estimators*** of the true central moments?\n",
    "\n",
    "Most of us are familiar with the formula for the sample variance (second moment),\n",
    "$$\\hat{\\mu}_2 = \\hat{\\sigma}^2 = \\frac{1}{N-1} \\sum_{t=1}^N (X_t - \\hat{\\mu})^2$$\n",
    "where $\\hat{\\mu} = (1/N) \\sum_{t=1}^N X_t$ is the sample mean.  We need $N-1$ in the denominator for sample variance so that it is an unbiased estimator of the true variance (assuming that the samples are i.i.d.).\n",
    "\n",
    "What about the third central moment?  We have as an unbiased estimator\n",
    "$$\\hat{\\mu}_3 = \\frac{N}{(N-1)(N-2)} \\sum_{t=1}^N (X_t - \\hat{\\mu})^3.$$\n",
    "\n",
    "We thereby derive a formula for the sample third standardized moment (denoted $G_1$), i.e. sample skewness:\n",
    "$$G_1 = \\frac{\\hat{\\mu}_3}{(\\hat{\\mu}_2)^{3/2}} = \\frac{\\hat{\\mu}_3}{\\hat{\\sigma}^3}.$$\n",
    "\n",
    "The formula we will use for sample Fisher (excess) kurtosis (denoted $G_2$) is:\n",
    "$$G_2 = \\frac{N(N+1)}{(N-1)(N-2)(N-3)} \\frac{\\sum_{t=1}^N (X_t - \\hat{\\mu})^4}{\\hat{\\sigma}^4} - 3 \\frac{(N-1)^2}{(N-2)(N-3)}.$$"
   ]
  },
  {
   "cell_type": "code",
   "execution_count": 42,
   "metadata": {},
   "outputs": [
    {
     "data": {
      "text/plain": [
       "-1.0044281752311806"
      ]
     },
     "execution_count": 42,
     "metadata": {},
     "output_type": "execute_result"
    }
   ],
   "source": [
    "# Let's calculate the sample skewness of our\n",
    "# returns.\n",
    "logdiff.skew()"
   ]
  },
  {
   "cell_type": "markdown",
   "metadata": {},
   "source": [
    "As was already suggested by comparing the mean and median returns, the sample skewness indicates negative skew, which can result from large magnitude returns being more frequently negative than positive."
   ]
  },
  {
   "cell_type": "code",
   "execution_count": 43,
   "metadata": {},
   "outputs": [
    {
     "data": {
      "text/plain": [
       "26.742727334182707"
      ]
     },
     "execution_count": 43,
     "metadata": {},
     "output_type": "execute_result"
    }
   ],
   "source": [
    "# Let's calculate the sample excess kurtosis of our\n",
    "# returns.\n",
    "logdiff.kurtosis()"
   ]
  },
  {
   "cell_type": "markdown",
   "metadata": {},
   "source": [
    "Since the sample excess kurtosis is greater than 0, his confirms what we already strongly suspected, that the distrubition has fatter tails than a normal distribution.\n",
    "\n",
    "Another way compare our return data to a normal distrubution is with a ***normal probability plot*** (which is a specific type of ***Q-Q plot***), which plots theoretical quantiles versus observed quantiles.  See https://en.wikipedia.org/wiki/Normal_probability_plot.\n",
    "\n",
    "Python's ***scipy*** scientific computing library contains a function called ***probplot*** within the ***stats*** subpackage.  But typing:  \n",
    "```import scipy```  \n",
    "```scipy.stats.probplot(logdiff)```  \n",
    "will result in an error because ***scipy*** doesn't import all its modules automatically.  Instead, we must explicitly tell Python to import the ***stats*** subpackage."
   ]
  },
  {
   "cell_type": "code",
   "execution_count": 44,
   "metadata": {},
   "outputs": [],
   "source": [
    "import scipy.stats"
   ]
  },
  {
   "cell_type": "code",
   "execution_count": 45,
   "metadata": {},
   "outputs": [
    {
     "data": {
      "text/plain": [
       "((array([-3.9471995 , -3.72940723, -3.61016228, ...,  3.61016228,\n",
       "          3.72940723,  3.9471995 ]),\n",
       "  array([-0.22899729, -0.09469512, -0.09353652, ...,  0.0870888 ,\n",
       "          0.10245736,  0.10957197])),\n",
       " (0.009157343139607052, 0.00029581536333788, 0.9484165424656087))"
      ]
     },
     "execution_count": 45,
     "metadata": {},
     "output_type": "execute_result"
    },
    {
     "data": {
      "image/png": "[encoded data removed]",
      "text/plain": [
       "<Figure size 432x288 with 1 Axes>"
      ]
     },
     "metadata": {
      "needs_background": "light"
     },
     "output_type": "display_data"
    }
   ],
   "source": [
    "scipy.stats.probplot(logdiff, plot=matplotlib.pyplot)\n",
    "# The default theoretical distribution is the\n",
    "# standard normal distribution."
   ]
  },
  {
   "cell_type": "markdown",
   "metadata": {},
   "source": [
    "# Declaration of Independence #"
   ]
  },
  {
   "cell_type": "markdown",
   "metadata": {},
   "source": [
    "It our returns were truly normally distributed, the normal probability plot would be a straight line.  But our plot shows again the our return data has fatter tails than a normal distribution, especially for negative returns."
   ]
  },
  {
   "cell_type": "markdown",
   "metadata": {},
   "source": [
    "For time being, let's make the **assumption** that our daily returns are **independent** and **identically distributed** (i.i.d.).  This gives us a simple ***statistical model*** for returns, from which we can try to infer information about the distribution of returns.\n",
    "\n",
    "We'll test how accurate this i.i.d. assumption is later.\n",
    "\n",
    "So if we model our daily returns $X_t$ as i.i.d. random variables, what can we say about the mean daily return $\\mu = \\mathbb{E}[X_t]$?\n",
    "\n",
    "Our ***observed sample mean*** was 0.02958% per trading day (or 7.45% per annum), but this is only one particular realization of samples from our random variables $X_t$, and does **not** imply that the expected annual return actually is 7.45%.  It is likely somewhat different, but how different could it be?\n",
    "\n",
    "When we say \"*sample mean*\" we might be referring to one of two distinct things:  (1) the ***observed*** sample mean from actual realized data, which is just a number, or the sample mean ***estimator***, which is a random variable.\n",
    "\n",
    "In other words, if $x_1, x_2, \\dots x_N$ is the ***observed*** time series data, then the observed sample mean is\n",
    "$$\\bar{x} = \\frac{1}{N}\\sum_{t=1}^N x_t.$$\n",
    "\n",
    "On the other hand, if we ***model*** this time series as a sequence of i.i.d. random variables $X_1, X_2, \\dots X_N$, the we can construct an ***estimator*** for the \"***true***\" mean $\\mu$ as\n",
    "$$\\hat{\\mu} = \\frac{1}{N}\\sum_{t=1}^N X_t,$$\n",
    "which is a itself a ***random variable*** (and the $\\hat{}$ is a common notation to denote an estimator of a true parameter).\n",
    "\n",
    "Observe that\n",
    "$$\\mathbb{E}[\\hat{\\mu}] = \\frac{1}{N}\\sum_{t=1}^N \\mathbb{E}[X_t] = \\frac{1}{N}\\sum_{t=1}^N \\mu = \\mu.$$\n",
    "In other words, the expectation of our sample mean estimator $\\hat{\\mu}$ is the true mean $\\mu$.  We call such an estimator ***unbiased***.\n",
    "\n",
    "Similarly, we can compute the ***variance*** of our estimator $\\hat{\\mu}$.\n",
    "\\begin{align}\n",
    "\\operatorname{Var}(\\hat{\\mu}) &= \\operatorname{Var}\\left(\\frac{1}{N}\\sum_{t=1}^N X_t\\right)\\\\\n",
    "&= \\operatorname{Cov}\\left(\\frac{1}{N}\\sum_{s=1}^N X_s,\\frac{1}{N}\\sum_{t=1}^N X_t\\right)\\\\\n",
    "&= \\frac{1}{N^2}\\sum_{s=1}^N \\sum_{t=1}^N \\operatorname{Cov}(X_s, X_t)\\\\\n",
    "&= \\frac{1}{N^2}\\sum_{t=1}^N \\operatorname{Var}(X_t) \\quad \\text{(using our independence assumption)}\\\\\n",
    "&= \\frac{\\sigma^2}{N},\n",
    "\\end{align}\n",
    "where $\\sigma^2 = \\operatorname{Var}(X_t)$.\n",
    "\n",
    "***Warning***:  This calculation requires our $X_t$ to be both ***independent*** and ***identically distributed***!\n",
    "\n",
    "Therefore the standard deviation of the mean estimator $\\hat{\\mu}$, also called the ***standard error*** (SE) of the mean is\n",
    "$$\\operatorname{SE}(\\hat{\\mu}) = \\sigma_{\\hat{\\mu}} = \\frac{\\sigma}{\\sqrt{N}}.$$\n",
    "So the larger our sample size, the more accurate will be our estimate of the true mean $\\mu$.\n",
    "\n",
    "However, we don't know what the true value of $\\sigma$ is either!  But we can use the square root of the observed ***sample variance*** as a good approximation:\n",
    "$$\\sigma_{\\hat{\\mu}} \\approx \\frac{s}{\\sqrt{N}},$$\n",
    "where\n",
    "$$s^2 = \\frac{1}{N-1}\\sum_{t=1}^N (x_t - \\bar{x})^2.$$\n",
    "\n",
    "Finally, by the ***Central Limit Theorem***, the distribution of the sample mean estimator $\\hat{\\mu}$ approaches a ***normal distribution*** as $N$ gets large, even if the distribution of the $X_t$ is not normal."
   ]
  },
  {
   "cell_type": "code",
   "execution_count": 46,
   "metadata": {},
   "outputs": [
    {
     "name": "stdout",
     "output_type": "stream",
     "text": [
      "7.290772178103872e-05\n"
     ]
    }
   ],
   "source": [
    "# What is our approximate standard error for our\n",
    "# sample mean of daily returns?\n",
    "SE = logdiff.std() / logdiff.count()**0.5\n",
    "print(SE)"
   ]
  },
  {
   "cell_type": "markdown",
   "metadata": {},
   "source": [
    "So what does the mean for us?  Let's suppose that our ***true*** mean return is 5% per annum, or 0.01984% per day.  What is the approximate probabilty that a particular sample equals or exceeds our observed sample mean of 7.45% per annum (0.02958% per day)?\n",
    "\n",
    "\\begin{align}\n",
    "\\operatorname{Pr}(\\hat{\\mu} > 0.02958\\%) &= \\operatorname{Pr}\\left(\\frac{\\hat{\\mu} - 0.01984\\%}{\\operatorname{SE}} > \\frac{0.02958\\% - 0.01984\\%}{\\operatorname{SE}}\\right)\\\\\n",
    "&\\approx\\operatorname{Pr}\\left(Z > \\frac{0.00974\\%}{0.00729\\%}\\right) \\quad \\text{where } Z \\text{ is a standard normal random variable}\\\\\n",
    "&\\approx\\operatorname{Pr}(Z > 1.336)\\\\\n",
    "&= 1 - \\Phi(1.336) \\quad \\text{where } \\Phi \\text{ is the cumulative distribution funcyion of the standard normal}\\\\\n",
    "&\\approx 9.08\\%.\n",
    "\\end{align}"
   ]
  },
  {
   "cell_type": "code",
   "execution_count": 47,
   "metadata": {},
   "outputs": [
    {
     "data": {
      "text/plain": [
       "0.09077923502705743"
      ]
     },
     "execution_count": 47,
     "metadata": {},
     "output_type": "execute_result"
    }
   ],
   "source": [
    "# Here is the code for the above calculation.\n",
    "1 - scipy.stats.norm.cdf( (logdiff.mean() - 0.05/252) / SE )"
   ]
  },
  {
   "cell_type": "markdown",
   "metadata": {},
   "source": [
    "# I'm losing confidence."
   ]
  },
  {
   "cell_type": "markdown",
   "metadata": {},
   "source": [
    "In other words, ***if*** the true mean return were 5% per annum, there is an approximately 9% probability that we could have observed at least a 7.45% return.\n",
    "\n",
    "Given a true mean $\\mu$, what is the probabilty that an interval $(\\hat{\\mu}-c, \\hat{\\mu}+c)$ contains the true mean $\\mu$?\n",
    "\n",
    "\\begin{align}\n",
    "\\operatorname{Prob}(\\hat{\\mu}-c < \\mu < \\hat{\\mu}+c) &= \\operatorname{Prob}(\\mu -c < \\hat{\\mu} < \\mu+c)\\\\\n",
    "&= \\operatorname{Prob}(-c < \\hat{\\mu} - \\mu < c)\\\\\n",
    "&= \\operatorname{Prob}\\left(-\\frac{c}{\\operatorname{SE}} < \\frac{\\hat{\\mu} - \\mu}{\\operatorname{SE}} < \\frac{c}{\\operatorname{SE}}\\right)\\\\\n",
    "&\\approx \\operatorname{Prob}\\left(-\\frac{c}{\\operatorname{SE}} < Z < \\frac{c}{\\operatorname{SE}}\\right)\\\\\n",
    "&= \\Phi\\left(\\frac{c}{\\operatorname{SE}}\\right) - \\Phi\\left(-\\frac{c}{\\operatorname{SE}}\\right).\n",
    "\\end{align}\n",
    "\n",
    "If we would desire that probability to be 95%, then we would want\n",
    "$$\\frac{c}{\\operatorname{SE}} \\approx 1.96,$$\n",
    "or\n",
    "$$c \\approx 1.96 \\cdot \\operatorname{SE} \\approx 1.96 \\frac{s}{\\sqrt{N}}.$$\n",
    "\n",
    "The interval\n",
    "$$\\left(\\hat{\\mu}-1.96\\frac{s}{\\sqrt{N}}, \\hat{\\mu}+1.96\\frac{s}{\\sqrt{N}}\\right)$$\n",
    "is called the ***95% confidence interval*** of the sample mean."
   ]
  },
  {
   "cell_type": "code",
   "execution_count": 48,
   "metadata": {},
   "outputs": [
    {
     "data": {
      "text/plain": [
       "(0.00015291622864704028, 0.00043871449802871206)"
      ]
     },
     "execution_count": 48,
     "metadata": {},
     "output_type": "execute_result"
    }
   ],
   "source": [
    "# Let's calculate our 95% confidence interval\n",
    "# for daily returns.\n",
    "(logdiff.mean() - 1.96*SE,logdiff.mean()+1.96*SE)"
   ]
  },
  {
   "cell_type": "code",
   "execution_count": 49,
   "metadata": {},
   "outputs": [
    {
     "data": {
      "text/plain": [
       "(0.03853488961905415, 0.11055605350323544)"
      ]
     },
     "execution_count": 49,
     "metadata": {},
     "output_type": "execute_result"
    }
   ],
   "source": [
    "# Let's annualize this.\n",
    "(logdiff.mean() - 1.96*SE)*252,(logdiff.mean()+1.96*SE)*252"
   ]
  },
  {
   "cell_type": "markdown",
   "metadata": {},
   "source": [
    "In other words, if we take some sample of our size (17,532) of daily returns and calculated an average annual return, and we consider an interval of +/- 3.6% around our average, then we are 95% likely that the true mean is within that interval.\n",
    "\n",
    "The particular sample that we observed historically gives an interval of (3.85%,11.05%).\n",
    "\n",
    "We might roughly say that \"*It is 95% likely that the interval (3.85%,11.05%) contains the true mean.*\"\n",
    "\n",
    "A range of 3.85% to 11.05% is very wide!  If you took $\\$100$ and got a 3.85% return (continuously compounded), after 50 years you would have\n",
    "$$\\$100 \\times e^{rt} = \\$100 \\times \\exp{(0.0385 \\times 50)} = \\$685.51.$$\n",
    "\n",
    "But if you took $\\$100$ and got an 11.05% return, after 50 years you would have\n",
    "$$\\$100 \\times e^{rt} = \\$100 \\times \\exp{(0.1105 \\times 50)} = \\$25,088.63.$$\n",
    "\n",
    "What a dramatic difference!\n",
    "\n",
    "In general, mean returns are almost impossible to estimate with any degree of accuracy, a phenomenon called ***mean blur***.  It is one of the greatest problems in finance."
   ]
  },
  {
   "cell_type": "markdown",
   "metadata": {},
   "source": [
    "# It depends."
   ]
  },
  {
   "cell_type": "markdown",
   "metadata": {},
   "source": [
    "In the above calcuation of the standard error of our mean estimate, we assumed that the daily returns were independent of each other.  How accurate is that assumption?  One common test is to check whether daily returns are ***correlated*** with their ***lagged*** values.\n",
    "\n",
    "In other words, we would like to know the ***covariance*** of $X_t$ with $X_{t-k}$, denoted $\\gamma(t-k,t)$,\n",
    "$$\\gamma(t-k,t) = \\operatorname{Cov}(X_{t-k}, X_t),$$\n",
    "called the ***lag $k$ autocovariance***, as well as the ***lag $k$ autocorrelation*** (or ***serial correlation***), denoted $\\rho(t-k,t)$,\n",
    "$$\\rho(t-k,t) = \\frac{\\operatorname{Cov}(X_{t-k},X_t)}{\\sqrt{\\operatorname{Var}(X_{t-k}) \\operatorname{Var}(X_t) }}.$$\n",
    "\n",
    "To calculate the lag $k$ sample autocovariance $r(k)$ of an observed time series $(x_1,x_2, \\dots,x_N)$, ***pandas*** ```autocorr``` function calculates the sample correlation of the pairs $(x_1, x_{k+1}), (x_2, x_{k+2}), \\dots, ..., (x_{N-k},x_N)$ as\n",
    "$$r(k) = \\frac{\\sum_{t=1}^{N-k} (x_t - \\bar{x}_{(1)})(x_{t+k} - \\bar{x}_{(1+k)})}{\\sqrt{\\sum_{t=1}^{N-k} (x_t - \\bar{x}_{(1)})^2 \\sum_{t=1}^{N-k} (x_{t+k} - \\bar{x}_{(1+k)})^2}}$$\n",
    "where\n",
    "$$\\bar{x}_{(1)} = \\frac{1}{N-k} \\sum_{t=1}^{N-k} x_t$$\n",
    "and\n",
    "$$\\bar{x}_{(1+k)} = \\frac{1}{N-k} \\sum_{t=1}^{N-k} x_{t+k}.$$"
   ]
  },
  {
   "cell_type": "code",
   "execution_count": 50,
   "metadata": {},
   "outputs": [
    {
     "data": {
      "text/plain": [
       "[0.025457812674860362,\n",
       " -0.04155168711997995,\n",
       " 0.002466854245196088,\n",
       " -0.007357928342559309,\n",
       " -0.01451344517618303]"
      ]
     },
     "execution_count": 50,
     "metadata": {},
     "output_type": "execute_result"
    }
   ],
   "source": [
    "# Let's compute the autocorrelation coefficients\n",
    "# from lag 0 to lag 5.\n",
    "[logdiff.autocorr(k) for k in range(1,6)]\n",
    "# k in range(1,6) means 1 <= k < 6 but not k = 6."
   ]
  },
  {
   "cell_type": "markdown",
   "metadata": {},
   "source": [
    "How should we interpret these autocorrelation coefficients?  They are quite close to zero, but we have a large number of observations, so do they have statistical significance?  Or could they be the result of random chance?\n",
    "\n",
    "Given random variables $X_1, X_2, \\dots, X_N$ , let\n",
    "$$\\hat{\\rho}(k) = \\frac{\\sum_{t=1}^{N-k} (X_t - \\bar{X}_{(1)})(X_{t+k} - \\bar{X}_{(1+k)})}{\\sqrt{\\sum_{t=1}^{N-k} (X_t - \\bar{X}_{(1)})^2 \\sum_{t=1}^{N-k} (X_{t+k} - \\bar{X}_{(1+k)})^2}}$$\n",
    "where\n",
    "$$\\bar{X}_{(1)} = \\frac{1}{N-k} \\sum_{t=1}^{N-k} X_t$$\n",
    "and\n",
    "$$\\bar{X}_{(1+k)} = \\frac{1}{N-k} \\sum_{t=1}^{N-k} X_{t+k}.$$\n",
    "\n",
    "Then $\\hat{\\rho}(k)$ is a random variable which we can use to estimate the true autocorrelation $\\rho(k)$.  Although the estimator is ***biased***, it can be shown that\n",
    "$$\\mathbb{E}[\\hat{\\rho}(k)] \\to \\rho(k)$$\n",
    "as $N \\to 0$, i.e. the sample autocorrelation estimator $\\hat{\\rho}(k)$ is ***asymptotically unbiased***.\n",
    "\n",
    "Now suppose that the random variables $X_1, X_2, \\dots, X_N$ are ***i.i.d.***  Then it can be shown that\n",
    "$$\\mathbb{E}[\\hat{\\rho}(k)] \\approx - \\frac{1}{N},$$\n",
    "$$\\operatorname{Var}(\\hat{\\rho}(k)) \\approx \\frac{1}{N},$$\n",
    "and also that $\\hat{\\rho}(k)$ ***asymptotically normally distributed*** (see pg. 78 of text).  Therefore the sample autocorrelation coefficients of an i.i.d. time series has an approximate ***95% confidence limits*** of\n",
    "$$\\frac{-1}{N} \\pm \\frac{1.96}{\\sqrt{N}} \\approx \\pm \\frac{1.96}{\\sqrt{N}}.$$\n",
    "\n",
    "For our time series of returns, $N = 17532$, and $1/\\sqrt{N} \\approx 0.0076$, so our approximate 95% confidence interval is $(-0.0076, 0.0076)$.  So our lag 1, lag 2 and lag 5 autocorrelation coefficients seem to be ***statistically significant***, but are so small that is is not clear if they have any ***practical significance***.\n",
    "\n",
    "In any event, modeling the times series as a purely random process of i.i.d. random variables still seems to be a reasonable initial approximation, but later we will consider how to incorporate autocorrelated random variables into our time series models."
   ]
  },
  {
   "cell_type": "markdown",
   "metadata": {},
   "source": [
    "# The more things change, the more they remain the same."
   ]
  },
  {
   "cell_type": "markdown",
   "metadata": {},
   "source": [
    "In the prior section, we examined whether the daily returns were independent of each other.  Now let's consider whether the returns are indeed identically distributed.  It is a reasonable and important question:  Have the properties of the S&P 500 returns (such as their mean and variance) changed over over the past 70 years?  And if they have changed, can our tools detect the change?\n",
    "\n",
    "Given the rather wide 95% confidence interval of our annual return estimate of 3.85% to 11.05%, it is hard to be optmistic that we can detect ***any*** changes in mean returns.  We are just too ignorant."
   ]
  },
  {
   "cell_type": "code",
   "execution_count": 49,
   "metadata": {},
   "outputs": [],
   "source": [
    "firsthalf = logdiff.head(logdiff.count() // 2)\n",
    "secondhalf = logdiff.tail(logdiff.count() // 2)"
   ]
  },
  {
   "cell_type": "code",
   "execution_count": 50,
   "metadata": {},
   "outputs": [
    {
     "data": {
      "text/plain": [
       "0.06601165715659878"
      ]
     },
     "execution_count": 50,
     "metadata": {},
     "output_type": "execute_result"
    }
   ],
   "source": [
    "firsthalf.mean() * 252"
   ]
  },
  {
   "cell_type": "code",
   "execution_count": 51,
   "metadata": {},
   "outputs": [
    {
     "data": {
      "text/plain": [
       "0.08307928596569081"
      ]
     },
     "execution_count": 51,
     "metadata": {},
     "output_type": "execute_result"
    }
   ],
   "source": [
    "secondhalf.mean() * 252"
   ]
  },
  {
   "cell_type": "markdown",
   "metadata": {},
   "source": [
    "Although the average annual return of the most recent 35 years has been about 1.7% higher than the prior 35 years, this difference is ***not*** statistially signficant.  In our i.i.d. model of returns, such a difference could easily be the result of random fluctuation.  (Strictly speaking, the more proper way to test a null hypothesis that two sample means are unequal is with a **two sample hypothesis test**.)\n",
    "\n",
    "What about the ***volatilty***, i.e. the annual standard deviation, of returns?"
   ]
  },
  {
   "cell_type": "code",
   "execution_count": 52,
   "metadata": {},
   "outputs": [
    {
     "data": {
      "text/plain": [
       "0.12348220570637779"
      ]
     },
     "execution_count": 52,
     "metadata": {},
     "output_type": "execute_result"
    }
   ],
   "source": [
    "firsthalf.std() * 252**0.5"
   ]
  },
  {
   "cell_type": "code",
   "execution_count": 53,
   "metadata": {},
   "outputs": [
    {
     "data": {
      "text/plain": [
       "0.17810952169699065"
      ]
     },
     "execution_count": 53,
     "metadata": {},
     "output_type": "execute_result"
    }
   ],
   "source": [
    "secondhalf.std() * 252**0.5"
   ]
  },
  {
   "cell_type": "markdown",
   "metadata": {},
   "source": [
    "The most recent 35 years volaltity has been about 5.5% higher than the prior 35 years.  Is that statistically significant?\n",
    "\n",
    "If we assume our returns are ***normally*** distributed, we can use the following formula to estimate the standard error of the sample variance estimator $\\hat{\\sigma}^2$,\n",
    "\n",
    "$$\\operatorname{SE}(\\hat{\\sigma}^2) = \\sqrt{\\frac{2\\sigma^4}{N-1}} \\approx \\sqrt{\\frac{2s^4}{N-1}},$$\n",
    "where $s^2$ is the observed sample variance.\n",
    "\n",
    "We can then approximate the standard error of standard deviation $\\hat{\\sigma}$ by\n",
    "$$\\operatorname{SE}(\\hat{\\sigma}) \\approx \\frac{\\operatorname{SE}(\\hat{\\sigma}^2)}{2s} \\approx \\frac{s}{\\sqrt{2(N-1)}}.$$\n",
    "\n",
    "(***Caution!***  Our distribution is not quite normal; it has a lot of kurtosis, and that can increase the standard error of our sample variance.  We need to go back and check this more carefully.)"
   ]
  },
  {
   "cell_type": "code",
   "execution_count": 54,
   "metadata": {},
   "outputs": [
    {
     "data": {
      "text/plain": [
       "0.0008184104880745575"
      ]
     },
     "execution_count": 54,
     "metadata": {},
     "output_type": "execute_result"
    }
   ],
   "source": [
    "# Here is the code for calculating our initial\n",
    "# estimate of the standard error of volatility.\n",
    "SE_std_daily = logdiff.std() / (2*(logdiff.count()-1))**0.5\n",
    "SE_std_daily * 252**0.5 # to quote in annual terms "
   ]
  },
  {
   "cell_type": "markdown",
   "metadata": {},
   "source": [
    "A 0.08% standard error is much smaller than the difference in the observed volatilities 12.35% in the first half and 17.81% in the second half.  This tells us at least one of two things:  \n",
    "(1) our estimate of standard error of sample variance for our distribution is too low, and that we need to make a correction for our kurtosis, or  \n",
    "(2) the variance of our returns is not constant, so our returns are ***not*** i.i.d.\n",
    "\n",
    "**Note** - If the distributions were indeed normally distributed, then the statistical test we should apply is an ***F-test***, but such a test is highly sensitive to the normality assumption, i.e. approximate normality is not good enough.\n",
    "https://en.wikipedia.org/wiki/F-test_of_equality_of_variances\n",
    "\n",
    "Let's consider the kurtosis correction first.  An exact formula for the standard error of sample variance, valid for any distribution with finite fourth central moment, is\n",
    "$$\\operatorname{SE}(\\hat{\\sigma}^2) = \\sqrt{\\frac{1}{N}\\left(\\mu_4 - \\frac{N-3}{N-1} \\sigma^4 \\right)},$$\n",
    "where $\\mu_4$ is the fourth central moment.  We can rewrite this in terms of the fourth standardized central moment $\\tilde{\\mu}_4$ as\n",
    "$$\\operatorname{SE}(\\hat{\\sigma}^2) = \\sigma^2 \\sqrt{\\frac{1}{N}\\left(\\tilde{\\mu}_4 - \\frac{N-3}{N-1}\\right)}.$$\n",
    "Using our sample excess kurtosis $g_2$ to estimate excess kurtosis $\\tilde{\\mu}_4 - 3$, we have the approximation\n",
    "$$\\operatorname{SE}(\\hat{\\sigma}^2) \\approx s^2 \\sqrt{\\frac{1}{N}\\left(g_2 + 3 - \\frac{N-3}{N-1}\\right)} = s^2 \\sqrt{\\frac{g_2}{N} + \\frac{2}{N-1}}.$$\n",
    "\n",
    "We can then approximate the standard error of standard deviation $\\hat{\\sigma}$ by\n",
    "$$\\operatorname{SE}(\\hat{\\sigma}) \\approx \\frac{\\operatorname{SE}(\\hat{\\sigma}^2)}{2s} \\approx \\frac{s}{2} \\sqrt{\\frac{g_2}{N} + \\frac{2}{N-1}}.$$"
   ]
  },
  {
   "cell_type": "code",
   "execution_count": 55,
   "metadata": {},
   "outputs": [
    {
     "data": {
      "text/plain": [
       "0.0031024775798103735"
      ]
     },
     "execution_count": 55,
     "metadata": {},
     "output_type": "execute_result"
    }
   ],
   "source": [
    "# Let's incorporate kurtosis into our estimate of\n",
    "# the standard error of volatility.\n",
    "SE_std_daily = logdiff.std() / 2 * (logdiff.kurtosis()/logdiff.count() + 2/(logdiff.count()-1))**0.5\n",
    "SE_std_daily * 252**0.5  # to quote in annual terms"
   ]
  },
  {
   "cell_type": "markdown",
   "metadata": {},
   "source": [
    "The standard error of 0.31% for annual volatility is probably much more reasonable than hte previous 0.08%, which seems too small.  But even 0.31% is much smaller than the difference in our observed volatilities of 12.35% and 17.81% in the first and second halves of our time series.  So we can be quite confident that our returns do ***not*** have constant variance, so our returns are ***not i.i.d.***  (Note - A more rigorous way to test the equality of two variances from two nonnormal samples is with a test such as the ***Brown-Forsythe test***  https://en.wikipedia.org/wiki/Brown–Forsythe_test).\n",
    "\n",
    "Actually we could already see this visually by examining the plot of the daily returns."
   ]
  },
  {
   "cell_type": "code",
   "execution_count": 56,
   "metadata": {},
   "outputs": [
    {
     "data": {
      "text/plain": [
       "<matplotlib.axes._subplots.AxesSubplot at 0x1176e1c18>"
      ]
     },
     "execution_count": 56,
     "metadata": {},
     "output_type": "execute_result"
    },
    {
     "data": {
      "image/png": "[encoded data removed]",
      "text/plain": [
       "<Figure size 432x288 with 1 Axes>"
      ]
     },
     "metadata": {
      "needs_background": "light"
     },
     "output_type": "display_data"
    }
   ],
   "source": [
    "logdiff.plot()"
   ]
  },
  {
   "cell_type": "markdown",
   "metadata": {},
   "source": [
    "We see that volatility \"clusters\", i.e. large (positive or negative) returns seem to be followed by more large returns, and small returns seem to be followed by more small returns, i.e. there are \"noisy\" and \"quiet\" periods."
   ]
  },
  {
   "cell_type": "code",
   "execution_count": null,
   "metadata": {},
   "outputs": [],
   "source": []
  }
 ],
 "metadata": {
  "kernelspec": {
   "display_name": "Python 3",
   "language": "python",
   "name": "python3"
  },
  "language_info": {
   "codemirror_mode": {
    "name": "ipython",
    "version": 3
   },
   "file_extension": ".py",
   "mimetype": "text/x-python",
   "name": "python",
   "nbconvert_exporter": "python",
   "pygments_lexer": "ipython3",
   "version": "3.8.5"
  }
 },
 "nbformat": 4,
 "nbformat_minor": 2
}
