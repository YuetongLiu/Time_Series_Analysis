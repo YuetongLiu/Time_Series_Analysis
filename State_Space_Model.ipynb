{
 "cells": [
  {
   "cell_type": "code",
   "execution_count": 2,
   "metadata": {},
   "outputs": [],
   "source": [
    "%matplotlib inline\n",
    "import numpy as np\n",
    "import pandas as pd\n",
    "import statsmodels.api as sm\n",
    "import matplotlib.pyplot as plt"
   ]
  },
  {
   "cell_type": "code",
   "execution_count": 3,
   "metadata": {},
   "outputs": [],
   "source": [
    "testseries = pd.Series([1, 2, 3, 4, 5, 6, 6, 6, 6, 7, 8])"
   ]
  },
  {
   "cell_type": "code",
   "execution_count": 4,
   "metadata": {},
   "outputs": [],
   "source": [
    "class LocalLevel(sm.tsa.statespace.MLEModel):\n",
    "    def __init__(self, endog):\n",
    "        # Initialize the statespace\n",
    "        super().__init__(\n",
    "            endog, k_states=1, k_posdef=1,\n",
    "            initialization='approximate_diffuse')\n",
    "\n",
    "        ### Initialize the matrices\n",
    "        self.ssm['design'] = np.array([1])\n",
    "        self.ssm['transition'] = np.array([1])\n",
    "        self.ssm['selection'] = np.eye(1)  # 1x1 identity matrix\n",
    "\n",
    "    @property\n",
    "    def param_names(self):\n",
    "        return ['sigma2.measurement', 'sigma2.level']\n",
    "\n",
    "    @property\n",
    "    def start_params(self):\n",
    "        return [np.std(self.endog), np.std(self.endog)] # initial value\n",
    "\n",
    "    def transform_params(self, unconstrained): # transform from sqrt\n",
    "        return unconstrained**2\n",
    "\n",
    "    def untransform_params(self, constrained): # non-negative -> sqrt\n",
    "        return constrained**0.5\n",
    "\n",
    "    def update(self, params, *args, **kwargs):\n",
    "        params = super().update(params, *args, **kwargs)\n",
    "\n",
    "        # Observation covariance\n",
    "        self.ssm['obs_cov',0,0] = params[0]\n",
    "\n",
    "        # State covariance\n",
    "        self.ssm['state_cov',0,0] = params[1]"
   ]
  },
  {
   "cell_type": "code",
   "execution_count": 5,
   "metadata": {},
   "outputs": [
    {
     "name": "stdout",
     "output_type": "stream",
     "text": [
      "                           Statespace Model Results                           \n",
      "==============================================================================\n",
      "Dep. Variable:                      y   No. Observations:                   11\n",
      "Model:                     LocalLevel   Log Likelihood                 -20.233\n",
      "Date:                Thu, 06 May 2021   AIC                             44.465\n",
      "Time:                        21:37:44   BIC                             45.261\n",
      "Sample:                             0   HQIC                            43.964\n",
      "                                 - 11                                         \n",
      "Covariance Type:                  opg                                         \n",
      "======================================================================================\n",
      "                         coef    std err          z      P>|z|      [0.025      0.975]\n",
      "--------------------------------------------------------------------------------------\n",
      "sigma2.measurement  1.225e-11      0.247   4.96e-11      1.000      -0.485       0.485\n",
      "sigma2.level           0.7000      0.691      1.013      0.311      -0.654       2.054\n",
      "===================================================================================\n",
      "Ljung-Box (L1) (Q):                   1.33   Jarque-Bera (JB):                 1.88\n",
      "Prob(Q):                              0.25   Prob(JB):                         0.39\n",
      "Heteroskedasticity (H):               0.67   Skew:                            -0.57\n",
      "Prob(H) (two-sided):                  0.70   Kurtosis:                         1.32\n",
      "===================================================================================\n",
      "\n",
      "Warnings:\n",
      "[1] Covariance matrix calculated using the outer product of gradients (complex-step).\n"
     ]
    }
   ],
   "source": [
    "# Setup the model\n",
    "mod = LocalLevel(testseries)\n",
    "\n",
    "# Fit it using MLE (recall that we are fitting the two variance parameters)\n",
    "res = mod.fit(disp=False)\n",
    "print(res.summary())"
   ]
  },
  {
   "cell_type": "code",
   "execution_count": 7,
   "metadata": {},
   "outputs": [
    {
     "data": {
      "text/plain": [
       "<AxesSubplot:>"
      ]
     },
     "execution_count": 7,
     "metadata": {},
     "output_type": "execute_result"
    },
    {
     "data": {
      "image/png": "[encoded data removed]",
      "text/plain": [
       "<Figure size 432x288 with 1 Axes>"
      ]
     },
     "metadata": {
      "needs_background": "light"
     },
     "output_type": "display_data"
    }
   ],
   "source": [
    "# Perform prediction and forecasting\n",
    "predict = res.get_prediction() # one step ahead\n",
    "forecast = res.get_forecast(5) # future 5\n",
    "plt.figure()\n",
    "testseries.plot() # blue original\n",
    "predict.predicted_mean.plot() # yellow one step ahead\n",
    "forecast.predicted_mean.plot() # green forecatse\n",
    "forecast.conf_int()[\"upper y\"].plot()\n",
    "forecast.conf_int()[\"lower y\"].plot()"
   ]
  },
  {
   "cell_type": "code",
   "execution_count": 259,
   "metadata": {},
   "outputs": [],
   "source": [
    "class LocalLinearTrend(sm.tsa.statespace.MLEModel):\n",
    "    def __init__(self, endog):\n",
    "        # Initialize the statespace\n",
    "        super().__init__(\n",
    "            endog, k_states=2, k_posdef=2,\n",
    "            initialization='approximate_diffuse')\n",
    "\n",
    "        #### Initialize the matrices\n",
    "        self.ssm['design'] = np.array([1, 0])\n",
    "        self.ssm['transition'] = np.array([[1, 1],\n",
    "                                       [0, 1]])\n",
    "        self.ssm['selection'] = np.eye(2)  # 2x2 identity matrix\n",
    "\n",
    "    @property\n",
    "    def param_names(self):\n",
    "        return ['sigma2.measurement', 'sigma2.level', 'sigma2.trend'] ####\n",
    "\n",
    "    @property\n",
    "    def start_params(self):\n",
    "        return [np.std(self.endog), np.std(self.endog), np.std(self.endog)] ####\n",
    "\n",
    "    def transform_params(self, unconstrained):\n",
    "        return unconstrained**2\n",
    "\n",
    "    def untransform_params(self, constrained):\n",
    "        return constrained**0.5\n",
    "\n",
    "    def update(self, params, *args, **kwargs):\n",
    "        params = super().update(params, *args, **kwargs)\n",
    "\n",
    "        # Observation covariance\n",
    "        self.ssm['obs_cov',0,0] = params[0]\n",
    "\n",
    "        # State covariance\n",
    "        self.ssm['state_cov',0,0] = params[1]\n",
    "        \n",
    "        ####\n",
    "        self.ssm['state_cov',1,1] = params[2]"
   ]
  },
  {
   "cell_type": "code",
   "execution_count": 260,
   "metadata": {},
   "outputs": [
    {
     "name": "stdout",
     "output_type": "stream",
     "text": [
      "                           Statespace Model Results                           \n",
      "==============================================================================\n",
      "Dep. Variable:                      y   No. Observations:                   11\n",
      "Model:               LocalLinearTrend   Log Likelihood                 -21.655\n",
      "Date:                Mon, 06 Apr 2020   AIC                             49.311\n",
      "Time:                        20:35:42   BIC                             50.505\n",
      "Sample:                             0   HQIC                            48.559\n",
      "                                 - 11                                         \n",
      "Covariance Type:                  opg                                         \n",
      "======================================================================================\n",
      "                         coef    std err          z      P>|z|      [0.025      0.975]\n",
      "--------------------------------------------------------------------------------------\n",
      "sigma2.measurement  4.425e-08    492.328   8.99e-11      1.000    -964.945     964.945\n",
      "sigma2.level        1.448e-05   2168.668   6.68e-09      1.000   -4250.512    4250.512\n",
      "sigma2.trend           0.2222   1653.108      0.000      1.000   -3239.810    3240.255\n",
      "===================================================================================\n",
      "Ljung-Box (Q):                        4.47   Jarque-Bera (JB):                 2.86\n",
      "Prob(Q):                              0.92   Prob(JB):                         0.24\n",
      "Heteroskedasticity (H):         2249824.77   Skew:                            -0.00\n",
      "Prob(H) (two-sided):                  0.00   Kurtosis:                         5.50\n",
      "===================================================================================\n",
      "\n",
      "Warnings:\n",
      "[1] Covariance matrix calculated using the outer product of gradients (complex-step).\n"
     ]
    }
   ],
   "source": [
    "# Setup the model\n",
    "mod = LocalLinearTrend(testseries)\n",
    "\n",
    "# Fit it using MLE (recall that we are fitting the three variance parameters)\n",
    "res = mod.fit(disp=False)\n",
    "print(res.summary())"
   ]
  },
  {
   "cell_type": "code",
   "execution_count": 228,
   "metadata": {},
   "outputs": [
    {
     "data": {
      "text/plain": [
       "<matplotlib.axes._subplots.AxesSubplot at 0x11a5b9518>"
      ]
     },
     "execution_count": 228,
     "metadata": {},
     "output_type": "execute_result"
    },
    {
     "data": {
      "image/png": "[encoded data removed]",
      "text/plain": [
       "<Figure size 432x288 with 1 Axes>"
      ]
     },
     "metadata": {
      "needs_background": "light"
     },
     "output_type": "display_data"
    }
   ],
   "source": [
    "# Perform prediction and forecasting\n",
    "predict = res.get_prediction()\n",
    "forecast = res.get_forecast(5)\n",
    "plt.figure()\n",
    "testseries.plot()\n",
    "predict.predicted_mean.plot()\n",
    "forecast.predicted_mean.plot()\n",
    "forecast.conf_int()[\"upper y\"].plot()\n",
    "forecast.conf_int()[\"lower y\"].plot()"
   ]
  },
  {
   "cell_type": "code",
   "execution_count": 281,
   "metadata": {},
   "outputs": [],
   "source": [
    "class LocalDampedTrend(sm.tsa.statespace.MLEModel):\n",
    "    def __init__(self, endog):\n",
    "        # Initialize the statespace\n",
    "        super().__init__(\n",
    "            endog, k_states=2, k_posdef=2,\n",
    "            initialization='approximate_diffuse')\n",
    "\n",
    "        # Initialize the matrices\n",
    "        self.ssm['design'] = np.array([1, 0])\n",
    "        self.ssm['selection'] = np.eye(2)  # 2x2 identity matrix\n",
    "\n",
    "    @property\n",
    "    def param_names(self):\n",
    "        return ['sigma2.measurement', 'sigma2.level', 'sigma2.trend', 'damping']\n",
    "\n",
    "    @property\n",
    "    def start_params(self):\n",
    "        return [np.std(self.endog), np.std(self.endog), np.std(self.endog), 0.5] ####\n",
    "\n",
    "    def transform_params(self, unconstrained):\n",
    "        return unconstrained**2\n",
    "\n",
    "    def untransform_params(self, constrained):\n",
    "        return constrained**0.5\n",
    "\n",
    "    def update(self, params, *args, **kwargs):\n",
    "        params = super().update(params, *args, **kwargs)\n",
    "\n",
    "        # Observation covariance\n",
    "        self.ssm['obs_cov',0,0] = params[0]\n",
    "\n",
    "        # State covariance\n",
    "        self.ssm['state_cov',0,0] = params[1]\n",
    "        self.ssm['state_cov',1,1] = params[2]\n",
    "        \n",
    "        # Transition matrix\n",
    "        ####\n",
    "        self.ssm['transition'] = np.array([[1, 1],\n",
    "                                         [0, params[3]]])\n"
   ]
  },
  {
   "cell_type": "code",
   "execution_count": 282,
   "metadata": {},
   "outputs": [
    {
     "name": "stdout",
     "output_type": "stream",
     "text": [
      "                           Statespace Model Results                           \n",
      "==============================================================================\n",
      "Dep. Variable:                      y   No. Observations:                   11\n",
      "Model:               LocalDampedTrend   Log Likelihood                 -21.264\n",
      "Date:                Mon, 06 Apr 2020   AIC                             50.528\n",
      "Time:                        20:40:14   BIC                             52.119\n",
      "Sample:                             0   HQIC                            49.525\n",
      "                                 - 11                                         \n",
      "Covariance Type:                  opg                                         \n",
      "======================================================================================\n",
      "                         coef    std err          z      P>|z|      [0.025      0.975]\n",
      "--------------------------------------------------------------------------------------\n",
      "sigma2.measurement  2.228e-10      1.221   1.83e-10      1.000      -2.392       2.392\n",
      "sigma2.level        3.381e-10      5.105   6.62e-11      1.000     -10.006      10.006\n",
      "sigma2.trend           0.2037      2.523      0.081      0.936      -4.742       5.149\n",
      "damping                0.8333      0.977      0.853      0.394      -1.082       2.749\n",
      "===================================================================================\n",
      "Ljung-Box (Q):                        6.04   Jarque-Bera (JB):                 2.07\n",
      "Prob(Q):                              0.81   Prob(JB):                         0.36\n",
      "Heteroskedasticity (H):              18.50   Skew:                            -0.06\n",
      "Prob(H) (two-sided):                  0.02   Kurtosis:                         5.12\n",
      "===================================================================================\n",
      "\n",
      "Warnings:\n",
      "[1] Covariance matrix calculated using the outer product of gradients (complex-step).\n"
     ]
    }
   ],
   "source": [
    "# Setup the model\n",
    "mod = LocalDampedTrend(testseries)\n",
    "\n",
    "# Fit it using MLE (recall that we are fitting the three variance parameters)\n",
    "res = mod.fit(disp=False)\n",
    "print(res.summary())"
   ]
  },
  {
   "cell_type": "code",
   "execution_count": 283,
   "metadata": {},
   "outputs": [
    {
     "data": {
      "text/plain": [
       "<matplotlib.axes._subplots.AxesSubplot at 0x11a6afe48>"
      ]
     },
     "execution_count": 283,
     "metadata": {},
     "output_type": "execute_result"
    },
    {
     "data": {
      "image/png": "[encoded data removed]",
      "text/plain": [
       "<Figure size 432x288 with 1 Axes>"
      ]
     },
     "metadata": {
      "needs_background": "light"
     },
     "output_type": "display_data"
    }
   ],
   "source": [
    "# Perform prediction and forecasting\n",
    "predict = res.get_prediction()\n",
    "forecast = res.get_forecast(5)\n",
    "plt.figure()\n",
    "testseries.plot()\n",
    "predict.predicted_mean.plot()\n",
    "forecast.predicted_mean.plot()\n",
    "forecast.conf_int()[\"upper y\"].plot()\n",
    "forecast.conf_int()[\"lower y\"].plot()"
   ]
  },
  {
   "cell_type": "code",
   "execution_count": 15,
   "metadata": {},
   "outputs": [],
   "source": [
    "stockRtn = [1, 1, -3, 1, -2, -5, -1, 4]\n",
    "marketRtn = [1, 1, -2, 0, -2, 1, 1, -1]"
   ]
  },
  {
   "cell_type": "code",
   "execution_count": 21,
   "metadata": {},
   "outputs": [],
   "source": [
    "class TVRegress(sm.tsa.statespace.MLEModel):\n",
    "    def __init__(self, endog, exog): ####\n",
    "        # Initialize the statespace\n",
    "        super().__init__(\n",
    "            endog, k_states=1, k_posdef=1,\n",
    "            initialization='approximate_diffuse')\n",
    "\n",
    "        # Initialize the matrices\n",
    "        \n",
    "        ##\n",
    "        self.ssm['design'] = np.array([[exog]]) ####\n",
    "        self.ssm['transition'] = np.array([1])\n",
    "        self.ssm['selection'] = np.eye(1)  # 1x1 identity matrix\n",
    "\n",
    "    @property\n",
    "    def param_names(self):\n",
    "        return ['sigma2.measurement', 'sigma2.beta']\n",
    "\n",
    "    @property\n",
    "    def start_params(self):\n",
    "        return [np.std(self.endog), np.std(self.endog)]\n",
    "\n",
    "    def transform_params(self, unconstrained):\n",
    "        return unconstrained**2\n",
    "\n",
    "    def untransform_params(self, constrained):\n",
    "        return constrained**0.5\n",
    "\n",
    "    def update(self, params, *args, **kwargs):\n",
    "        params = super().update(params, *args, **kwargs)\n",
    "\n",
    "        # Observation covariance\n",
    "        self.ssm['obs_cov',0,0] = params[0]\n",
    "\n",
    "        # State covariance\n",
    "        self.ssm['state_cov',0,0] = params[1]"
   ]
  },
  {
   "cell_type": "code",
   "execution_count": 22,
   "metadata": {},
   "outputs": [
    {
     "name": "stdout",
     "output_type": "stream",
     "text": [
      "                           Statespace Model Results                           \n",
      "==============================================================================\n",
      "Dep. Variable:                      y   No. Observations:                    8\n",
      "Model:                      TVRegress   Log Likelihood                 -25.575\n",
      "Date:                Tue, 07 Apr 2020   AIC                             55.150\n",
      "Time:                        11:33:53   BIC                             55.309\n",
      "Sample:                             0   HQIC                            54.079\n",
      "                                  - 8                                         \n",
      "Covariance Type:                  opg                                         \n",
      "======================================================================================\n",
      "                         coef    std err          z      P>|z|      [0.025      0.975]\n",
      "--------------------------------------------------------------------------------------\n",
      "sigma2.measurement     3.5735      4.588      0.779      0.436      -5.419      12.566\n",
      "sigma2.beta            2.1799      4.451      0.490      0.624      -6.544      10.904\n",
      "===================================================================================\n",
      "Ljung-Box (Q):                        4.44   Jarque-Bera (JB):                 4.64\n",
      "Prob(Q):                              0.73   Prob(JB):                         0.10\n",
      "Heteroskedasticity (H):             140.26   Skew:                            -1.63\n",
      "Prob(H) (two-sided):                  0.00   Kurtosis:                         4.80\n",
      "===================================================================================\n",
      "\n",
      "Warnings:\n",
      "[1] Covariance matrix calculated using the outer product of gradients (complex-step).\n"
     ]
    }
   ],
   "source": [
    "# Setup the model\n",
    "mod = TVRegress(stockRtn, marketRtn)\n",
    "\n",
    "# Fit it using MLE (recall that we are fitting the two variance parameters)\n",
    "res = mod.fit(disp=False)\n",
    "print(res.summary())"
   ]
  },
  {
   "cell_type": "code",
   "execution_count": 23,
   "metadata": {},
   "outputs": [
    {
     "data": {
      "text/plain": [
       "[<matplotlib.lines.Line2D at 0x11a368fd0>]"
      ]
     },
     "execution_count": 23,
     "metadata": {},
     "output_type": "execute_result"
    },
    {
     "data": {
      "image/png": "[encoded data removed]",
      "text/plain": [
       "<Figure size 432x288 with 1 Axes>"
      ]
     },
     "metadata": {
      "needs_background": "light"
     },
     "output_type": "display_data"
    }
   ],
   "source": [
    "# Perform prediction and forecasting\n",
    "predict = res.get_prediction()\n",
    "plt.figure()\n",
    "plt.plot(stockRtn, \"b-\")\n",
    "plt.plot(marketRtn, \"r-\")\n",
    "plt.plot(predict.predicted_mean, \"g-\")"
   ]
  },
  {
   "cell_type": "code",
   "execution_count": 24,
   "metadata": {},
   "outputs": [
    {
     "data": {
      "text/plain": [
       "array([[ 0.99999643],\n",
       "       [ 0.99999863],\n",
       "       [ 1.41536261],\n",
       "       [ 1.41536261],\n",
       "       [ 1.06189308],\n",
       "       [-1.67436589],\n",
       "       [-1.32713699],\n",
       "       [-2.74213916]])"
      ]
     },
     "execution_count": 24,
     "metadata": {},
     "output_type": "execute_result"
    }
   ],
   "source": [
    "res.states.filtered"
   ]
  },
  {
   "cell_type": "code",
   "execution_count": 25,
   "metadata": {},
   "outputs": [
    {
     "data": {
      "text/plain": [
       "[<matplotlib.lines.Line2D at 0x11a3b5b38>]"
      ]
     },
     "execution_count": 25,
     "metadata": {},
     "output_type": "execute_result"
    },
    {
     "data": {
      "image/png": "[encoded data removed]",
      "text/plain": [
       "<Figure size 432x288 with 1 Axes>"
      ]
     },
     "metadata": {
      "needs_background": "light"
     },
     "output_type": "display_data"
    }
   ],
   "source": [
    "plt.plot(res.states.filtered)"
   ]
  },
  {
   "cell_type": "code",
   "execution_count": null,
   "metadata": {},
   "outputs": [],
   "source": []
  }
 ],
 "metadata": {
  "kernelspec": {
   "display_name": "Python 3",
   "language": "python",
   "name": "python3"
  },
  "language_info": {
   "codemirror_mode": {
    "name": "ipython",
    "version": 3
   },
   "file_extension": ".py",
   "mimetype": "text/x-python",
   "name": "python",
   "nbconvert_exporter": "python",
   "pygments_lexer": "ipython3",
   "version": "3.8.5"
  }
 },
 "nbformat": 4,
 "nbformat_minor": 2
}
